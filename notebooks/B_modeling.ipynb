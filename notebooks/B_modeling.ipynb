{
 "cells": [
  {
   "cell_type": "markdown",
   "id": "b6922320",
   "metadata": {},
   "source": [
    "# Reido Vidaya Mahardika\n",
    "\n",
    "## Python Modeling Credit Scoring"
   ]
  },
  {
   "cell_type": "markdown",
   "id": "bd32d495",
   "metadata": {},
   "source": [
    "### I. Import Libraries"
   ]
  },
  {
   "cell_type": "code",
   "execution_count": 1,
   "id": "3bdc8f37",
   "metadata": {},
   "outputs": [],
   "source": [
    "import pandas as pd\n",
    "import numpy as np\n",
    "import matplotlib.pyplot as plt\n",
    "import seaborn as sns\n",
    "import pickle\n",
    "import shap\n",
    "from sklearn.model_selection import train_test_split\n",
    "from sklearn.linear_model import LogisticRegression\n",
    "from sklearn.ensemble import GradientBoostingClassifier\n",
    "from sklearn.metrics import roc_auc_score, confusion_matrix, ConfusionMatrixDisplay\n",
    "from sklearn.pipeline import make_pipeline"
   ]
  },
  {
   "cell_type": "markdown",
   "id": "1cc64e0f",
   "metadata": {},
   "source": [
    "### II. Data Loading"
   ]
  },
  {
   "cell_type": "code",
   "execution_count": 2,
   "id": "3e139f2c",
   "metadata": {},
   "outputs": [
    {
     "data": {
      "text/html": [
       "<div>\n",
       "<style scoped>\n",
       "    .dataframe tbody tr th:only-of-type {\n",
       "        vertical-align: middle;\n",
       "    }\n",
       "\n",
       "    .dataframe tbody tr th {\n",
       "        vertical-align: top;\n",
       "    }\n",
       "\n",
       "    .dataframe thead th {\n",
       "        text-align: right;\n",
       "    }\n",
       "</style>\n",
       "<table border=\"1\" class=\"dataframe\">\n",
       "  <thead>\n",
       "    <tr style=\"text-align: right;\">\n",
       "      <th></th>\n",
       "      <th>application_id</th>\n",
       "      <th>age</th>\n",
       "      <th>monthly_income</th>\n",
       "      <th>loan_amount</th>\n",
       "      <th>previous_defaults</th>\n",
       "      <th>credit_score</th>\n",
       "      <th>default</th>\n",
       "      <th>leak_col_good</th>\n",
       "      <th>leak_col_subtle</th>\n",
       "    </tr>\n",
       "  </thead>\n",
       "  <tbody>\n",
       "    <tr>\n",
       "      <th>0</th>\n",
       "      <td>501000</td>\n",
       "      <td>41</td>\n",
       "      <td>13995609</td>\n",
       "      <td>5982664</td>\n",
       "      <td>0</td>\n",
       "      <td>624</td>\n",
       "      <td>0</td>\n",
       "      <td>0</td>\n",
       "      <td>-0.040</td>\n",
       "    </tr>\n",
       "    <tr>\n",
       "      <th>1</th>\n",
       "      <td>501001</td>\n",
       "      <td>58</td>\n",
       "      <td>13683833</td>\n",
       "      <td>3711198</td>\n",
       "      <td>0</td>\n",
       "      <td>809</td>\n",
       "      <td>0</td>\n",
       "      <td>0</td>\n",
       "      <td>0.001</td>\n",
       "    </tr>\n",
       "    <tr>\n",
       "      <th>2</th>\n",
       "      <td>501002</td>\n",
       "      <td>33</td>\n",
       "      <td>9417391</td>\n",
       "      <td>7172332</td>\n",
       "      <td>0</td>\n",
       "      <td>647</td>\n",
       "      <td>0</td>\n",
       "      <td>0</td>\n",
       "      <td>0.077</td>\n",
       "    </tr>\n",
       "    <tr>\n",
       "      <th>3</th>\n",
       "      <td>501003</td>\n",
       "      <td>45</td>\n",
       "      <td>6861811</td>\n",
       "      <td>8661056</td>\n",
       "      <td>0</td>\n",
       "      <td>450</td>\n",
       "      <td>0</td>\n",
       "      <td>0</td>\n",
       "      <td>0.038</td>\n",
       "    </tr>\n",
       "    <tr>\n",
       "      <th>4</th>\n",
       "      <td>501004</td>\n",
       "      <td>22</td>\n",
       "      <td>5640742</td>\n",
       "      <td>4520669</td>\n",
       "      <td>1</td>\n",
       "      <td>816</td>\n",
       "      <td>0</td>\n",
       "      <td>0</td>\n",
       "      <td>0.020</td>\n",
       "    </tr>\n",
       "  </tbody>\n",
       "</table>\n",
       "</div>"
      ],
      "text/plain": [
       "   application_id  age  monthly_income  loan_amount  previous_defaults  \\\n",
       "0          501000   41        13995609      5982664                  0   \n",
       "1          501001   58        13683833      3711198                  0   \n",
       "2          501002   33         9417391      7172332                  0   \n",
       "3          501003   45         6861811      8661056                  0   \n",
       "4          501004   22         5640742      4520669                  1   \n",
       "\n",
       "   credit_score  default  leak_col_good  leak_col_subtle  \n",
       "0           624        0              0           -0.040  \n",
       "1           809        0              0            0.001  \n",
       "2           647        0              0            0.077  \n",
       "3           450        0              0            0.038  \n",
       "4           816        0              0            0.020  "
      ]
     },
     "execution_count": 2,
     "metadata": {},
     "output_type": "execute_result"
    }
   ],
   "source": [
    "# Load Dataset\n",
    "df_ori = pd.read_csv(r'C:\\Users\\reido\\OneDrive\\Desktop\\Job\\Data\\Talentport\\Technical Test\\ds-takehome\\data\\credit_scoring.csv')   \n",
    "\n",
    "# Duplicate data\n",
    "df = df_ori.copy()\n",
    "df.head(5)"
   ]
  },
  {
   "cell_type": "markdown",
   "id": "3519df82",
   "metadata": {},
   "source": [
    "### III. EDA"
   ]
  },
  {
   "cell_type": "code",
   "execution_count": 3,
   "id": "ac7cc8d3",
   "metadata": {},
   "outputs": [
    {
     "name": "stdout",
     "output_type": "stream",
     "text": [
      "<class 'pandas.core.frame.DataFrame'>\n",
      "RangeIndex: 6000 entries, 0 to 5999\n",
      "Data columns (total 9 columns):\n",
      " #   Column             Non-Null Count  Dtype  \n",
      "---  ------             --------------  -----  \n",
      " 0   application_id     6000 non-null   int64  \n",
      " 1   age                6000 non-null   int64  \n",
      " 2   monthly_income     6000 non-null   int64  \n",
      " 3   loan_amount        6000 non-null   int64  \n",
      " 4   previous_defaults  6000 non-null   int64  \n",
      " 5   credit_score       6000 non-null   int64  \n",
      " 6   default            6000 non-null   int64  \n",
      " 7   leak_col_good      6000 non-null   int64  \n",
      " 8   leak_col_subtle    6000 non-null   float64\n",
      "dtypes: float64(1), int64(8)\n",
      "memory usage: 422.0 KB\n"
     ]
    }
   ],
   "source": [
    "# Summary Data\n",
    "df.info()"
   ]
  },
  {
   "cell_type": "code",
   "execution_count": 4,
   "id": "eb4abc36",
   "metadata": {},
   "outputs": [
    {
     "data": {
      "text/html": [
       "<div>\n",
       "<style scoped>\n",
       "    .dataframe tbody tr th:only-of-type {\n",
       "        vertical-align: middle;\n",
       "    }\n",
       "\n",
       "    .dataframe tbody tr th {\n",
       "        vertical-align: top;\n",
       "    }\n",
       "\n",
       "    .dataframe thead th {\n",
       "        text-align: right;\n",
       "    }\n",
       "</style>\n",
       "<table border=\"1\" class=\"dataframe\">\n",
       "  <thead>\n",
       "    <tr style=\"text-align: right;\">\n",
       "      <th></th>\n",
       "      <th>application_id</th>\n",
       "      <th>age</th>\n",
       "      <th>monthly_income</th>\n",
       "      <th>loan_amount</th>\n",
       "      <th>previous_defaults</th>\n",
       "      <th>credit_score</th>\n",
       "      <th>default</th>\n",
       "      <th>leak_col_good</th>\n",
       "      <th>leak_col_subtle</th>\n",
       "    </tr>\n",
       "  </thead>\n",
       "  <tbody>\n",
       "    <tr>\n",
       "      <th>count</th>\n",
       "      <td>6000.000000</td>\n",
       "      <td>6000.000000</td>\n",
       "      <td>6.000000e+03</td>\n",
       "      <td>6.000000e+03</td>\n",
       "      <td>6000.000000</td>\n",
       "      <td>6000.000000</td>\n",
       "      <td>6000.000000</td>\n",
       "      <td>6000.000000</td>\n",
       "      <td>6000.000000</td>\n",
       "    </tr>\n",
       "    <tr>\n",
       "      <th>mean</th>\n",
       "      <td>503999.500000</td>\n",
       "      <td>40.321500</td>\n",
       "      <td>1.140386e+07</td>\n",
       "      <td>8.001122e+06</td>\n",
       "      <td>0.243667</td>\n",
       "      <td>575.979833</td>\n",
       "      <td>0.012167</td>\n",
       "      <td>0.012167</td>\n",
       "      <td>0.011945</td>\n",
       "    </tr>\n",
       "    <tr>\n",
       "      <th>std</th>\n",
       "      <td>1732.195139</td>\n",
       "      <td>11.300697</td>\n",
       "      <td>4.912598e+06</td>\n",
       "      <td>4.071786e+06</td>\n",
       "      <td>0.484767</td>\n",
       "      <td>158.328931</td>\n",
       "      <td>0.109639</td>\n",
       "      <td>0.109639</td>\n",
       "      <td>0.113947</td>\n",
       "    </tr>\n",
       "    <tr>\n",
       "      <th>min</th>\n",
       "      <td>501000.000000</td>\n",
       "      <td>21.000000</td>\n",
       "      <td>3.000310e+06</td>\n",
       "      <td>1.000794e+06</td>\n",
       "      <td>0.000000</td>\n",
       "      <td>300.000000</td>\n",
       "      <td>0.000000</td>\n",
       "      <td>0.000000</td>\n",
       "      <td>-0.119000</td>\n",
       "    </tr>\n",
       "    <tr>\n",
       "      <th>25%</th>\n",
       "      <td>502499.750000</td>\n",
       "      <td>31.000000</td>\n",
       "      <td>7.163379e+06</td>\n",
       "      <td>4.440939e+06</td>\n",
       "      <td>0.000000</td>\n",
       "      <td>438.750000</td>\n",
       "      <td>0.000000</td>\n",
       "      <td>0.000000</td>\n",
       "      <td>-0.020000</td>\n",
       "    </tr>\n",
       "    <tr>\n",
       "      <th>50%</th>\n",
       "      <td>503999.500000</td>\n",
       "      <td>41.000000</td>\n",
       "      <td>1.129945e+07</td>\n",
       "      <td>7.982304e+06</td>\n",
       "      <td>0.000000</td>\n",
       "      <td>577.500000</td>\n",
       "      <td>0.000000</td>\n",
       "      <td>0.000000</td>\n",
       "      <td>0.000000</td>\n",
       "    </tr>\n",
       "    <tr>\n",
       "      <th>75%</th>\n",
       "      <td>505499.250000</td>\n",
       "      <td>50.000000</td>\n",
       "      <td>1.573705e+07</td>\n",
       "      <td>1.153144e+07</td>\n",
       "      <td>0.000000</td>\n",
       "      <td>713.000000</td>\n",
       "      <td>0.000000</td>\n",
       "      <td>0.000000</td>\n",
       "      <td>0.021000</td>\n",
       "    </tr>\n",
       "    <tr>\n",
       "      <th>max</th>\n",
       "      <td>506999.000000</td>\n",
       "      <td>59.000000</td>\n",
       "      <td>1.998622e+07</td>\n",
       "      <td>1.499858e+07</td>\n",
       "      <td>3.000000</td>\n",
       "      <td>849.000000</td>\n",
       "      <td>1.000000</td>\n",
       "      <td>1.000000</td>\n",
       "      <td>1.092000</td>\n",
       "    </tr>\n",
       "  </tbody>\n",
       "</table>\n",
       "</div>"
      ],
      "text/plain": [
       "       application_id          age  monthly_income   loan_amount  \\\n",
       "count     6000.000000  6000.000000    6.000000e+03  6.000000e+03   \n",
       "mean    503999.500000    40.321500    1.140386e+07  8.001122e+06   \n",
       "std       1732.195139    11.300697    4.912598e+06  4.071786e+06   \n",
       "min     501000.000000    21.000000    3.000310e+06  1.000794e+06   \n",
       "25%     502499.750000    31.000000    7.163379e+06  4.440939e+06   \n",
       "50%     503999.500000    41.000000    1.129945e+07  7.982304e+06   \n",
       "75%     505499.250000    50.000000    1.573705e+07  1.153144e+07   \n",
       "max     506999.000000    59.000000    1.998622e+07  1.499858e+07   \n",
       "\n",
       "       previous_defaults  credit_score      default  leak_col_good  \\\n",
       "count        6000.000000   6000.000000  6000.000000    6000.000000   \n",
       "mean            0.243667    575.979833     0.012167       0.012167   \n",
       "std             0.484767    158.328931     0.109639       0.109639   \n",
       "min             0.000000    300.000000     0.000000       0.000000   \n",
       "25%             0.000000    438.750000     0.000000       0.000000   \n",
       "50%             0.000000    577.500000     0.000000       0.000000   \n",
       "75%             0.000000    713.000000     0.000000       0.000000   \n",
       "max             3.000000    849.000000     1.000000       1.000000   \n",
       "\n",
       "       leak_col_subtle  \n",
       "count      6000.000000  \n",
       "mean          0.011945  \n",
       "std           0.113947  \n",
       "min          -0.119000  \n",
       "25%          -0.020000  \n",
       "50%           0.000000  \n",
       "75%           0.021000  \n",
       "max           1.092000  "
      ]
     },
     "execution_count": 4,
     "metadata": {},
     "output_type": "execute_result"
    }
   ],
   "source": [
    "df.describe()"
   ]
  },
  {
   "cell_type": "code",
   "execution_count": 5,
   "id": "c46234ae",
   "metadata": {},
   "outputs": [
    {
     "data": {
      "text/plain": [
       "0"
      ]
     },
     "execution_count": 5,
     "metadata": {},
     "output_type": "execute_result"
    }
   ],
   "source": [
    "# Check Missing Value\n",
    "df.isnull().sum().sum()"
   ]
  },
  {
   "cell_type": "code",
   "execution_count": 6,
   "id": "ea9c6547",
   "metadata": {},
   "outputs": [
    {
     "data": {
      "text/plain": [
       "0"
      ]
     },
     "execution_count": 6,
     "metadata": {},
     "output_type": "execute_result"
    }
   ],
   "source": [
    "# Check Duplicated Data\n",
    "df.duplicated().sum()"
   ]
  },
  {
   "cell_type": "code",
   "execution_count": 7,
   "id": "75b981d0",
   "metadata": {},
   "outputs": [],
   "source": [
    "# Drop Column\n",
    "df_clean = df.drop(columns=['application_id', 'leak_col_good', 'leak_col_subtle'])"
   ]
  },
  {
   "cell_type": "markdown",
   "id": "0d8e1ea8",
   "metadata": {},
   "source": [
    "### IV Feature Engineering"
   ]
  },
  {
   "cell_type": "code",
   "execution_count": 8,
   "id": "35d2bd0d",
   "metadata": {},
   "outputs": [
    {
     "data": {
      "text/html": [
       "<div>\n",
       "<style scoped>\n",
       "    .dataframe tbody tr th:only-of-type {\n",
       "        vertical-align: middle;\n",
       "    }\n",
       "\n",
       "    .dataframe tbody tr th {\n",
       "        vertical-align: top;\n",
       "    }\n",
       "\n",
       "    .dataframe thead th {\n",
       "        text-align: right;\n",
       "    }\n",
       "</style>\n",
       "<table border=\"1\" class=\"dataframe\">\n",
       "  <thead>\n",
       "    <tr style=\"text-align: right;\">\n",
       "      <th></th>\n",
       "      <th>age</th>\n",
       "      <th>monthly_income</th>\n",
       "      <th>loan_amount</th>\n",
       "      <th>previous_defaults</th>\n",
       "      <th>credit_score</th>\n",
       "    </tr>\n",
       "  </thead>\n",
       "  <tbody>\n",
       "    <tr>\n",
       "      <th>0</th>\n",
       "      <td>41</td>\n",
       "      <td>13995609</td>\n",
       "      <td>5982664</td>\n",
       "      <td>0</td>\n",
       "      <td>624</td>\n",
       "    </tr>\n",
       "    <tr>\n",
       "      <th>1</th>\n",
       "      <td>58</td>\n",
       "      <td>13683833</td>\n",
       "      <td>3711198</td>\n",
       "      <td>0</td>\n",
       "      <td>809</td>\n",
       "    </tr>\n",
       "    <tr>\n",
       "      <th>2</th>\n",
       "      <td>33</td>\n",
       "      <td>9417391</td>\n",
       "      <td>7172332</td>\n",
       "      <td>0</td>\n",
       "      <td>647</td>\n",
       "    </tr>\n",
       "    <tr>\n",
       "      <th>3</th>\n",
       "      <td>45</td>\n",
       "      <td>6861811</td>\n",
       "      <td>8661056</td>\n",
       "      <td>0</td>\n",
       "      <td>450</td>\n",
       "    </tr>\n",
       "    <tr>\n",
       "      <th>4</th>\n",
       "      <td>22</td>\n",
       "      <td>5640742</td>\n",
       "      <td>4520669</td>\n",
       "      <td>1</td>\n",
       "      <td>816</td>\n",
       "    </tr>\n",
       "  </tbody>\n",
       "</table>\n",
       "</div>"
      ],
      "text/plain": [
       "   age  monthly_income  loan_amount  previous_defaults  credit_score\n",
       "0   41        13995609      5982664                  0           624\n",
       "1   58        13683833      3711198                  0           809\n",
       "2   33         9417391      7172332                  0           647\n",
       "3   45         6861811      8661056                  0           450\n",
       "4   22         5640742      4520669                  1           816"
      ]
     },
     "execution_count": 8,
     "metadata": {},
     "output_type": "execute_result"
    }
   ],
   "source": [
    "# Split X dan y\n",
    "X = df_clean.drop(['default'], axis=1)\n",
    "y = df_clean['default']\n",
    "X.head()"
   ]
  },
  {
   "cell_type": "code",
   "execution_count": 9,
   "id": "b5b58a2e",
   "metadata": {},
   "outputs": [],
   "source": [
    "# Split X train test dan y train test\n",
    "X_train, X_test, y_train, y_test = train_test_split(X, y, stratify=y, random_state=26)"
   ]
  },
  {
   "cell_type": "code",
   "execution_count": 10,
   "id": "17273d80",
   "metadata": {},
   "outputs": [
    {
     "data": {
      "image/png": "[encoded data removed]",
      "text/plain": [
       "<Figure size 800x1000 with 3 Axes>"
      ]
     },
     "metadata": {},
     "output_type": "display_data"
    }
   ],
   "source": [
    "# Check Outliers\n",
    "\n",
    "#Define Num Columns\n",
    "num_columns = ['monthly_income', 'loan_amount', 'credit_score']\n",
    "\n",
    "num = len(num_columns)\n",
    "num_rows = 1\n",
    "num_cols = 3\n",
    "\n",
    "plt.figure(figsize=(8, 10))\n",
    "\n",
    "# Membuat boxplot untuk setiap num_columns\n",
    "for i, feature in enumerate(num_columns):\n",
    "    plt.subplot(num_rows, num_cols, i+1)\n",
    "    sns.boxplot(data=X_train, y=feature)\n",
    "\n",
    "plt.tight_layout()\n",
    "plt.show()"
   ]
  },
  {
   "cell_type": "markdown",
   "id": "9ee97547",
   "metadata": {},
   "source": [
    "### V. Modeling"
   ]
  },
  {
   "cell_type": "markdown",
   "id": "8f543abe",
   "metadata": {},
   "source": [
    "##### Logistic Regression "
   ]
  },
  {
   "cell_type": "code",
   "execution_count": 11,
   "id": "ff8853d9",
   "metadata": {},
   "outputs": [
    {
     "name": "stdout",
     "output_type": "stream",
     "text": [
      "Logistic Regression AUC: 0.7925101214574898\n"
     ]
    }
   ],
   "source": [
    "logreg = make_pipeline(LogisticRegression())\n",
    "logreg.fit(X_train, y_train)\n",
    "\n",
    "# AUC Score\n",
    "y_pred_proba = logreg.predict_proba(X_test)[:, 1]\n",
    "print(\"Logistic Regression AUC:\", roc_auc_score(y_test, y_pred_proba))"
   ]
  },
  {
   "cell_type": "code",
   "execution_count": 12,
   "id": "763b61f0",
   "metadata": {},
   "outputs": [
    {
     "data": {
      "image/png": "[encoded data removed]",
      "text/plain": [
       "<Figure size 640x480 with 2 Axes>"
      ]
     },
     "metadata": {},
     "output_type": "display_data"
    }
   ],
   "source": [
    "# Confusion Matrix\n",
    "y_pred = logreg.predict(X_test)\n",
    "cm = confusion_matrix(y_test, y_pred)\n",
    "disp = ConfusionMatrixDisplay(confusion_matrix=cm)\n",
    "disp.plot(cmap='Blues')\n",
    "plt.title(\"Confusion Matrix - Logistic Regression\")\n",
    "plt.show()"
   ]
  },
  {
   "cell_type": "markdown",
   "id": "7ceca76c",
   "metadata": {},
   "source": [
    "##### Gradient Boosting"
   ]
  },
  {
   "cell_type": "code",
   "execution_count": 13,
   "id": "b88a4bb9",
   "metadata": {},
   "outputs": [
    {
     "name": "stdout",
     "output_type": "stream",
     "text": [
      "Gradient Boosting AUC: 0.7592217723796671\n"
     ]
    }
   ],
   "source": [
    "# Gradient Boosting\n",
    "gbc = make_pipeline(GradientBoostingClassifier())\n",
    "gbc.fit(X_train, y_train)\n",
    "\n",
    "# AUC Score\n",
    "y_pred_proba = gbc.predict_proba(X_test)[:, 1]\n",
    "print(\"Gradient Boosting AUC:\", roc_auc_score(y_test, y_pred_proba))\n",
    "\n"
   ]
  },
  {
   "cell_type": "code",
   "execution_count": 14,
   "id": "3789e7ac",
   "metadata": {},
   "outputs": [
    {
     "data": {
      "image/png": "[encoded data removed]",
      "text/plain": [
       "<Figure size 640x480 with 2 Axes>"
      ]
     },
     "metadata": {},
     "output_type": "display_data"
    }
   ],
   "source": [
    "# Confusion Matrix\n",
    "y_pred = gbc.predict(X_test)\n",
    "cm = confusion_matrix(y_test, y_pred)\n",
    "disp = ConfusionMatrixDisplay(confusion_matrix=cm)\n",
    "disp.plot(cmap='Blues')\n",
    "plt.title(\"Confusion Matrix - Gradient Boosting\")\n",
    "plt.show()"
   ]
  },
  {
   "cell_type": "markdown",
   "id": "e13db323",
   "metadata": {},
   "source": [
    "Model gradient boosting dan logistic regression memiliki nilai AUC yang cukup tinggi namun untuk Logistic Regression memiliki nilai yang lebih tinggi. Ini bisa diakibatkan karena da beberapa parameter pada Gradient Boosting yang belum diatur. Dan dapat terlihatb juga pada confusion matrix Logistic Regression lebih unggul."
   ]
  },
  {
   "cell_type": "code",
   "execution_count": 25,
   "id": "996e217c",
   "metadata": {},
   "outputs": [],
   "source": [
    "df_output = pd.DataFrame({\n",
    "    'prob_default': y_pred_proba,\n",
    "    'y_true': y_test.reset_index(drop=True)\n",
    "})"
   ]
  },
  {
   "cell_type": "markdown",
   "id": "ed1c135d",
   "metadata": {},
   "source": [
    "##### Model Inference"
   ]
  },
  {
   "cell_type": "code",
   "execution_count": 23,
   "id": "2c51f587",
   "metadata": {},
   "outputs": [
    {
     "data": {
      "text/html": [
       "<div>\n",
       "<style scoped>\n",
       "    .dataframe tbody tr th:only-of-type {\n",
       "        vertical-align: middle;\n",
       "    }\n",
       "\n",
       "    .dataframe tbody tr th {\n",
       "        vertical-align: top;\n",
       "    }\n",
       "\n",
       "    .dataframe thead th {\n",
       "        text-align: right;\n",
       "    }\n",
       "</style>\n",
       "<table border=\"1\" class=\"dataframe\">\n",
       "  <thead>\n",
       "    <tr style=\"text-align: right;\">\n",
       "      <th></th>\n",
       "      <th>age</th>\n",
       "      <th>monthly_income</th>\n",
       "      <th>loan_amount</th>\n",
       "      <th>previous_defaults</th>\n",
       "      <th>credit_score</th>\n",
       "    </tr>\n",
       "  </thead>\n",
       "  <tbody>\n",
       "    <tr>\n",
       "      <th>0</th>\n",
       "      <td>30</td>\n",
       "      <td>10000000</td>\n",
       "      <td>5000000</td>\n",
       "      <td>0</td>\n",
       "      <td>500</td>\n",
       "    </tr>\n",
       "  </tbody>\n",
       "</table>\n",
       "</div>"
      ],
      "text/plain": [
       "   age  monthly_income  loan_amount  previous_defaults  credit_score\n",
       "0   30        10000000      5000000                  0           500"
      ]
     },
     "execution_count": 23,
     "metadata": {},
     "output_type": "execute_result"
    }
   ],
   "source": [
    "df_inf = {'age' : 30,\n",
    "          'monthly_income' : 10000000,\n",
    "          'loan_amount' : 5000000,\n",
    "          'previous_defaults': 0,\n",
    "          'credit_score': 500}\n",
    "df_inf = pd.DataFrame([df_inf])\n",
    "df_inf"
   ]
  },
  {
   "cell_type": "code",
   "execution_count": 24,
   "id": "47f76bfa",
   "metadata": {},
   "outputs": [
    {
     "name": "stdout",
     "output_type": "stream",
     "text": [
      "Prediksi: [0]\n"
     ]
    }
   ],
   "source": [
    "# Lakukan prediksi\n",
    "predictions = model.predict(df_inf)\n",
    "print(\"Prediksi:\", predictions)"
   ]
  },
  {
   "cell_type": "markdown",
   "id": "62838585",
   "metadata": {},
   "source": [
    "## Score Card"
   ]
  },
  {
   "cell_type": "code",
   "execution_count": 26,
   "id": "bd69e124",
   "metadata": {},
   "outputs": [],
   "source": [
    "def scorecard(prob, base_score=600, pdo=50):\n",
    "    import numpy as np\n",
    "    odds = prob / (1 - prob)\n",
    "    factor = pdo / np.log(2)\n",
    "    offset = base_score - factor * np.log(20)  # 20:1 odds = score 600\n",
    "    return offset - factor * np.log(odds)\n",
    "\n",
    "df_output['score'] = scorecard(df_output['prob_default'])"
   ]
  },
  {
   "cell_type": "markdown",
   "id": "0fb11a07",
   "metadata": {},
   "source": [
    "#### Save To csv"
   ]
  },
  {
   "cell_type": "code",
   "execution_count": 27,
   "id": "27a6d45b",
   "metadata": {},
   "outputs": [],
   "source": [
    "df_output.to_csv(\"model.csv\", index=False)"
   ]
  },
  {
   "cell_type": "markdown",
   "id": "df5bb47b",
   "metadata": {},
   "source": [
    "### SHAP"
   ]
  },
  {
   "cell_type": "code",
   "execution_count": null,
   "id": "c3b67ab1",
   "metadata": {},
   "outputs": [
    {
     "data": {
      "image/png": "[encoded data removed]",
      "text/plain": [
       "<Figure size 800x400 with 1 Axes>"
      ]
     },
     "metadata": {},
     "output_type": "display_data"
    }
   ],
   "source": [
    "model = gbc.named_steps['gradientboostingclassifier']\n",
    "explainer = shap.Explainer(model)\n",
    "shap_values = explainer(X)\n",
    "shap.plots.bar(shap_values, max_display=10)"
   ]
  },
  {
   "cell_type": "markdown",
   "id": "274fcf36",
   "metadata": {},
   "source": [
    "Dari Model SHAP diatas didapatkan credit_score merupakan fitur paling penting bisa dilihat berdasarkan nilainya +0.53"
   ]
  }
 ],
 "metadata": {
  "kernelspec": {
   "display_name": "base",
   "language": "python",
   "name": "python3"
  },
  "language_info": {
   "codemirror_mode": {
    "name": "ipython",
    "version": 3
   },
   "file_extension": ".py",
   "mimetype": "text/x-python",
   "name": "python",
   "nbconvert_exporter": "python",
   "pygments_lexer": "ipython3",
   "version": "3.12.7"
  }
 },
 "nbformat": 4,
 "nbformat_minor": 5
}
